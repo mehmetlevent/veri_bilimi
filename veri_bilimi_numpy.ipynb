{
 "cells": [
  {
   "cell_type": "markdown",
   "id": "989f893a-5da9-4ff3-81bb-27c2c74717df",
   "metadata": {},
   "source": [
    "# Numpy"
   ]
  },
  {
   "cell_type": "code",
   "execution_count": 2,
   "id": "27390df7-5df0-4c11-9d05-c96884fc1c60",
   "metadata": {},
   "outputs": [
    {
     "name": "stdout",
     "output_type": "stream",
     "text": [
      "Collecting package metadata (current_repodata.json): done\n",
      "Solving environment: done\n",
      "\n",
      "\n",
      "==> WARNING: A newer version of conda exists. <==\n",
      "  current version: 4.10.3\n",
      "  latest version: 4.11.0\n",
      "\n",
      "Please update conda by running\n",
      "\n",
      "    $ conda update -n base conda\n",
      "\n",
      "\n",
      "\n",
      "## Package Plan ##\n",
      "\n",
      "  environment location: /home/studio-lab-user/.conda/envs/default\n",
      "\n",
      "  added / updated specs:\n",
      "    - numpy\n",
      "\n",
      "\n",
      "The following packages will be downloaded:\n",
      "\n",
      "    package                    |            build\n",
      "    ---------------------------|-----------------\n",
      "    libblas-3.9.0              |13_linux64_openblas          12 KB  conda-forge\n",
      "    libcblas-3.9.0             |13_linux64_openblas          12 KB  conda-forge\n",
      "    libgfortran-ng-11.2.0      |      h69a702a_13          19 KB  conda-forge\n",
      "    libgfortran5-11.2.0        |      h5c6108e_13         1.7 MB  conda-forge\n",
      "    liblapack-3.9.0            |13_linux64_openblas          12 KB  conda-forge\n",
      "    libopenblas-0.3.18         |pthreads_h8fe5266_0         9.6 MB  conda-forge\n",
      "    numpy-1.22.3               |   py39h18676bf_0         6.8 MB  conda-forge\n",
      "    ------------------------------------------------------------\n",
      "                                           Total:        18.2 MB\n",
      "\n",
      "The following NEW packages will be INSTALLED:\n",
      "\n",
      "  libblas            conda-forge/linux-64::libblas-3.9.0-13_linux64_openblas\n",
      "  libcblas           conda-forge/linux-64::libcblas-3.9.0-13_linux64_openblas\n",
      "  libgfortran-ng     conda-forge/linux-64::libgfortran-ng-11.2.0-h69a702a_13\n",
      "  libgfortran5       conda-forge/linux-64::libgfortran5-11.2.0-h5c6108e_13\n",
      "  liblapack          conda-forge/linux-64::liblapack-3.9.0-13_linux64_openblas\n",
      "  libopenblas        conda-forge/linux-64::libopenblas-0.3.18-pthreads_h8fe5266_0\n",
      "  numpy              conda-forge/linux-64::numpy-1.22.3-py39h18676bf_0\n",
      "\n",
      "\n",
      "\n",
      "Downloading and Extracting Packages\n",
      "libblas-3.9.0        | 12 KB     | ##################################### | 100% \n",
      "libgfortran5-11.2.0  | 1.7 MB    | ##################################### | 100% \n",
      "liblapack-3.9.0      | 12 KB     | ##################################### | 100% \n",
      "libcblas-3.9.0       | 12 KB     | ##################################### | 100% \n",
      "libgfortran-ng-11.2. | 19 KB     | ##################################### | 100% \n",
      "numpy-1.22.3         | 6.8 MB    | ##################################### | 100% \n",
      "libopenblas-0.3.18   | 9.6 MB    | ##################################### | 100% \n",
      "Preparing transaction: done\n",
      "Verifying transaction: done\n",
      "Executing transaction: done\n",
      "\n",
      "Note: you may need to restart the kernel to use updated packages.\n"
     ]
    }
   ],
   "source": [
    "%conda install numpy"
   ]
  },
  {
   "cell_type": "code",
   "execution_count": 2,
   "id": "a925b071-9c44-46f5-a42b-dc62993af4ad",
   "metadata": {},
   "outputs": [],
   "source": [
    "import numpy as np"
   ]
  },
  {
   "cell_type": "code",
   "execution_count": 4,
   "id": "1344c7f7-f887-48ee-826b-823f93cf0831",
   "metadata": {},
   "outputs": [
    {
     "data": {
      "text/plain": [
       "array([ 1,  2,  3,  4,  5,  6,  7,  8,  9, 10, 11, 12, 13, 14, 15])"
      ]
     },
     "execution_count": 4,
     "metadata": {},
     "output_type": "execute_result"
    }
   ],
   "source": [
    "# 1 * 15 boyutunda array \n",
    "dizi = np.array([1, 2, 3, 4, 5, 6, 7, 8, 9, 10, 11, 12, 13, 14, 15])\n",
    "dizi"
   ]
  },
  {
   "cell_type": "code",
   "execution_count": 6,
   "id": "53baf966-6526-402f-967d-45cb282087cc",
   "metadata": {},
   "outputs": [
    {
     "data": {
      "text/plain": [
       "(15,)"
      ]
     },
     "execution_count": 6,
     "metadata": {},
     "output_type": "execute_result"
    }
   ],
   "source": [
    "# array'in boyutuna bakalım\n",
    "dizi.shape # shape şekil demek, reshape ise yeniden şekillendirme"
   ]
  },
  {
   "cell_type": "code",
   "execution_count": 7,
   "id": "b1607758-e24e-45ac-aa81-f2c2b6fa80cd",
   "metadata": {},
   "outputs": [],
   "source": [
    "dizi2 = dizi.reshape(3,5) # 1 * 15 lik dizimizi yeniden şekillendirerek 3*5 boyutunda diziye çeviriyoruz sonra da dizi2 ye atıyoruz."
   ]
  },
  {
   "cell_type": "code",
   "execution_count": 9,
   "id": "42830522-3bb0-48a5-b482-9d33e75f06f4",
   "metadata": {},
   "outputs": [
    {
     "data": {
      "text/plain": [
       "array([[ 1,  2,  3,  4,  5],\n",
       "       [ 6,  7,  8,  9, 10],\n",
       "       [11, 12, 13, 14, 15]])"
      ]
     },
     "execution_count": 9,
     "metadata": {},
     "output_type": "execute_result"
    }
   ],
   "source": [
    "dizi2 # orijinal dizimizi 3 satır 5 sutundan oluşan diziye dönüştürüldü."
   ]
  },
  {
   "cell_type": "code",
   "execution_count": 10,
   "id": "b24869fb-1fe3-4251-86e4-cb19ec62afe1",
   "metadata": {},
   "outputs": [
    {
     "name": "stdout",
     "output_type": "stream",
     "text": [
      "şekil :  (3, 5)\n",
      "Boyut :  2\n"
     ]
    }
   ],
   "source": [
    "print('şekil : ', dizi2.shape)\n",
    "print('Boyut : ', dizi2.ndim) # ndim kaç boyutlu olduğunu söyler "
   ]
  },
  {
   "cell_type": "code",
   "execution_count": 11,
   "id": "5e399f06-d4cf-490e-8196-d52a078a795b",
   "metadata": {},
   "outputs": [
    {
     "name": "stdout",
     "output_type": "stream",
     "text": [
      "Veri Tipi :  int64\n",
      "Boy :  15\n"
     ]
    }
   ],
   "source": [
    "print('Veri Tipi : ', dizi2.dtype.name) # array içerisinde bulunan verinin tipi\n",
    "print('Boy : ', dizi2.size) # size array'in boyunu söyler."
   ]
  },
  {
   "cell_type": "code",
   "execution_count": 12,
   "id": "6404bfe8-60e0-4f34-b6bc-5d45c5f07171",
   "metadata": {},
   "outputs": [
    {
     "name": "stdout",
     "output_type": "stream",
     "text": [
      "type :  <class 'numpy.ndarray'>\n"
     ]
    }
   ],
   "source": [
    "# arrayin tipi\n",
    "print('type : ', type(dizi2))"
   ]
  },
  {
   "cell_type": "code",
   "execution_count": 13,
   "id": "039d3814-be7e-4c43-a0d6-904d21b68861",
   "metadata": {},
   "outputs": [],
   "source": [
    "# sonuç nunpy kütüpanesinde çok boyutlu bir dizi olduğunudur (nunpy.ndarray)"
   ]
  },
  {
   "cell_type": "code",
   "execution_count": 15,
   "id": "49ad8771-0ae3-4d4f-b042-18b8e60041f1",
   "metadata": {},
   "outputs": [
    {
     "data": {
      "text/plain": [
       "array([[ 1,  2,  3,  4],\n",
       "       [ 5,  6,  7,  8],\n",
       "       [ 9, 10, 11, 12]])"
      ]
     },
     "execution_count": 15,
     "metadata": {},
     "output_type": "execute_result"
    }
   ],
   "source": [
    "# 2 boyutlu bir dizi oluşturalım.\n",
    "dizi2D = np.array([[1 ,2, 3, 4],[5, 6, 7, 8], [9, 10, 11, 12]])\n",
    "dizi2D"
   ]
  },
  {
   "cell_type": "code",
   "execution_count": 17,
   "id": "5f803b11-71c9-469f-ba60-04ef2c2d91fa",
   "metadata": {},
   "outputs": [
    {
     "data": {
      "text/plain": [
       "array([[0., 0., 0., 0.],\n",
       "       [0., 0., 0., 0.],\n",
       "       [0., 0., 0., 0.]])"
      ]
     },
     "execution_count": 17,
     "metadata": {},
     "output_type": "execute_result"
    }
   ],
   "source": [
    "# sıfırlardan oluşan array oluşturmak da mümkün\n",
    "sifir_dizi = np.zeros((3,4)) # 3 satır 4 sütundan oluşan dizi\n",
    "sifir_dizi"
   ]
  },
  {
   "cell_type": "code",
   "execution_count": 3,
   "id": "c77764bf-db17-4a9e-94a6-0a3c3548240a",
   "metadata": {},
   "outputs": [
    {
     "data": {
      "text/plain": [
       "array([[1., 1., 1., 1.],\n",
       "       [1., 1., 1., 1.],\n",
       "       [1., 1., 1., 1.]])"
      ]
     },
     "execution_count": 3,
     "metadata": {},
     "output_type": "execute_result"
    }
   ],
   "source": [
    "# birlerden oluşan array oluşturmak için\n",
    "birler_dizi = np.ones((3,4)) # 1 ler den oluşan 3 satır ve 4 sutundan oluşan array\n",
    "birler_dizi"
   ]
  },
  {
   "cell_type": "code",
   "execution_count": 15,
   "id": "db2ae429-48e8-41e1-bca4-c2106e69ddc3",
   "metadata": {},
   "outputs": [
    {
     "data": {
      "text/plain": [
       "array([[4.67534458e-310, 0.00000000e+000],\n",
       "       [0.00000000e+000, 0.00000000e+000]])"
      ]
     },
     "execution_count": 15,
     "metadata": {},
     "output_type": "execute_result"
    }
   ],
   "source": [
    "# boş bir array de oluşturabiliriz.\n",
    "bos_dizi = np.empty((2,2))\n",
    "bos_dizi"
   ]
  },
  {
   "cell_type": "code",
   "execution_count": 16,
   "id": "ab7f848c-e151-4a93-801d-bde68f35bc5d",
   "metadata": {},
   "outputs": [
    {
     "data": {
      "text/plain": [
       "array([10, 15, 20, 25, 30, 35, 40, 45])"
      ]
     },
     "execution_count": 16,
     "metadata": {},
     "output_type": "execute_result"
    }
   ],
   "source": [
    "# arange(x, y, basamak) x'den başlayarak y'ye kadar (y dahil değil) basamak sayısı kadar arttırarak array oluşturur.\n",
    "dizi_aralik = np.arange(10, 50, 5)\n",
    "dizi_aralik"
   ]
  },
  {
   "cell_type": "code",
   "execution_count": 18,
   "id": "19ae3444-723d-480b-adac-78f4d1152348",
   "metadata": {},
   "outputs": [
    {
     "data": {
      "text/plain": [
       "array([11.  , 13.25, 15.5 , 17.75, 20.  ])"
      ]
     },
     "execution_count": 18,
     "metadata": {},
     "output_type": "execute_result"
    }
   ],
   "source": [
    "# linspace(x, y, basamak) x ile y arasında basamak sayısı kadar olacak şekilde dizi oluştur\n",
    "dizi_bosluk = np.linspace(11, 20, 5)\n",
    "dizi_bosluk"
   ]
  },
  {
   "cell_type": "markdown",
   "id": "5b25102d-17d1-483e-bab2-b0bbc37f8032",
   "metadata": {},
   "source": [
    "## Numpy temel operasyonlar"
   ]
  },
  {
   "cell_type": "code",
   "execution_count": 19,
   "id": "491bf96f-834d-4a16-9b50-12f85ad58918",
   "metadata": {},
   "outputs": [],
   "source": [
    "import numpy as np"
   ]
  },
  {
   "cell_type": "code",
   "execution_count": 20,
   "id": "b41671d6-c279-4761-87b4-409d364b6795",
   "metadata": {},
   "outputs": [
    {
     "name": "stdout",
     "output_type": "stream",
     "text": [
      "[1 2 3]\n",
      "\n",
      "[4 5 6]\n"
     ]
    }
   ],
   "source": [
    "# matematiksel ifadeler için 2 dizi oluşturalım\n",
    "a = np.array([1, 2, 3])\n",
    "b = np.array([4, 5, 6])\n",
    "print(a)\n",
    "print(\"\")\n",
    "print(b)"
   ]
  },
  {
   "cell_type": "code",
   "execution_count": 21,
   "id": "87943495-f4fa-45c9-a90e-c01b9f0df67e",
   "metadata": {},
   "outputs": [
    {
     "name": "stdout",
     "output_type": "stream",
     "text": [
      "[5 7 9]\n",
      "[-3 -3 -3]\n",
      "[1 4 9]\n"
     ]
    }
   ],
   "source": [
    "print(a + b)\n",
    "print(a - b) \n",
    "print(a**2)# dizinin kendisiyle çarpımı. yani karesi"
   ]
  },
  {
   "cell_type": "code",
   "execution_count": 23,
   "id": "a8438f92-0f43-4d63-8122-6be0ba8b46f6",
   "metadata": {},
   "outputs": [
    {
     "data": {
      "text/plain": [
       "array([ True, False, False])"
      ]
     },
     "execution_count": 23,
     "metadata": {},
     "output_type": "execute_result"
    }
   ],
   "source": [
    "# filtreleme\n",
    "a<2 # a dizisinin içindeki tüm elemanları 2den küçük mü diye kontrol eder"
   ]
  },
  {
   "cell_type": "code",
   "execution_count": 25,
   "id": "7c79d81f-b84b-44e3-9765-743036075de7",
   "metadata": {},
   "outputs": [],
   "source": [
    "# Hadamard çarpımı ve matris çarpımı için 2 tane array oluşturalım\n",
    "a = np.array([[1, 2, 3],[4, 5, 6]])\n",
    "b = np.array([[1, 2, 3],[4, 5, 6]])\n",
    "\n"
   ]
  },
  {
   "cell_type": "code",
   "execution_count": 26,
   "id": "8e478b03-c506-414c-9489-a45f44274fea",
   "metadata": {},
   "outputs": [
    {
     "name": "stdout",
     "output_type": "stream",
     "text": [
      "[[ 1  4  9]\n",
      " [16 25 36]]\n"
     ]
    }
   ],
   "source": [
    "# Hadamard çarpımı\n",
    "print(a*b)"
   ]
  },
  {
   "cell_type": "code",
   "execution_count": 29,
   "id": "d394aa3c-b1eb-42fd-9c4f-febd55ed4e42",
   "metadata": {},
   "outputs": [
    {
     "name": "stdout",
     "output_type": "stream",
     "text": [
      "[[1 2 3]\n",
      " [4 5 6]]\n",
      "\n",
      "[[1 4]\n",
      " [2 5]\n",
      " [3 6]]\n",
      "\n",
      "[[14 32]\n",
      " [32 77]]\n"
     ]
    }
   ],
   "source": [
    "#transpos\n",
    "#matris çarpımı\n",
    "print(a)\n",
    "print(\"\")\n",
    "print(b.T) # b'nin transpos unu alıyoruz deviriyoruz. yani 2 satır 3 sutundan 3 satır 2 sutuna çeviriyoruz\n",
    "print(\"\")\n",
    "c = a.dot(b.T)# a'nın tüm satırlarını b'nin ilk sütunlarınlarınçarpıp toplayarak c'ye atar. yani 1*1 + 2*2 + 3*3 = 14 , 1*4 + 2*5 + 3*6 = 32 sonra a'nın 2. satırı ile b'nin sütunlarını çarp topla \n",
    "print(c)"
   ]
  },
  {
   "cell_type": "code",
   "execution_count": 30,
   "id": "68ddd849-b5fa-4243-af1d-dfde42ddcb72",
   "metadata": {},
   "outputs": [
    {
     "name": "stdout",
     "output_type": "stream",
     "text": [
      "[[1 2 3]\n",
      " [4 5 6]]\n"
     ]
    },
    {
     "data": {
      "text/plain": [
       "21"
      ]
     },
     "execution_count": 30,
     "metadata": {},
     "output_type": "execute_result"
    }
   ],
   "source": [
    "# dizinin tüm elemanlarını toıplama\n",
    "print(a)\n",
    "a.sum() # bu kadar :)"
   ]
  },
  {
   "cell_type": "code",
   "execution_count": 31,
   "id": "49c8396f-5083-4770-9e5d-9d0f4e439703",
   "metadata": {},
   "outputs": [
    {
     "data": {
      "text/plain": [
       "6"
      ]
     },
     "execution_count": 31,
     "metadata": {},
     "output_type": "execute_result"
    }
   ],
   "source": [
    "# dizinin en büyük değerini bulma\n",
    "a.max()"
   ]
  },
  {
   "cell_type": "code",
   "execution_count": 32,
   "id": "985947cc-ac58-4854-857b-1325d9f18439",
   "metadata": {},
   "outputs": [
    {
     "data": {
      "text/plain": [
       "1"
      ]
     },
     "execution_count": 32,
     "metadata": {},
     "output_type": "execute_result"
    }
   ],
   "source": [
    "# dizinin en küçük değerini bulma\n",
    "a.min()"
   ]
  },
  {
   "cell_type": "code",
   "execution_count": 33,
   "id": "05cdcf8b-f3b4-45d4-ba7f-84a083d81c0c",
   "metadata": {},
   "outputs": [
    {
     "data": {
      "text/plain": [
       "array([ 6, 15])"
      ]
     },
     "execution_count": 33,
     "metadata": {},
     "output_type": "execute_result"
    }
   ],
   "source": [
    "# dizinin satırlarını toplama\n",
    "a.sum(axis=1) # axis =1 ise satırlar"
   ]
  },
  {
   "cell_type": "code",
   "execution_count": 35,
   "id": "fdafe32b-a831-4d71-a273-f27db0d778e6",
   "metadata": {},
   "outputs": [
    {
     "data": {
      "text/plain": [
       "array([5, 7, 9])"
      ]
     },
     "execution_count": 35,
     "metadata": {},
     "output_type": "execute_result"
    }
   ],
   "source": [
    "# dizinin sütünlarını toplama\n",
    "a.sum(axis=0) # axis = 0 ise sütun toplamları"
   ]
  },
  {
   "cell_type": "code",
   "execution_count": 36,
   "id": "8a878014-656e-4a85-ac4a-fe3d262ad87d",
   "metadata": {},
   "outputs": [
    {
     "name": "stdout",
     "output_type": "stream",
     "text": [
      "[[1 2 3]\n",
      " [4 5 6]]\n"
     ]
    },
    {
     "data": {
      "text/plain": [
       "array([[1.        , 1.41421356, 1.73205081],\n",
       "       [2.        , 2.23606798, 2.44948974]])"
      ]
     },
     "execution_count": 36,
     "metadata": {},
     "output_type": "execute_result"
    }
   ],
   "source": [
    "# dizinin karekökünü bulma\n",
    "a = np.array([[1, 2, 3],[4, 5, 6]])\n",
    "print(a)\n",
    "np.sqrt(a) # a dizisinin karekökünü al. "
   ]
  },
  {
   "cell_type": "code",
   "execution_count": 37,
   "id": "e0e49e21-8d90-439e-b438-b56b08c9372d",
   "metadata": {},
   "outputs": [
    {
     "data": {
      "text/plain": [
       "array([[ 1,  4,  9],\n",
       "       [16, 25, 36]])"
      ]
     },
     "execution_count": 37,
     "metadata": {},
     "output_type": "execute_result"
    }
   ],
   "source": [
    "# dizinin karesini bulma\n",
    "np.square(a) # a dizisinin karesini alır"
   ]
  },
  {
   "cell_type": "code",
   "execution_count": 38,
   "id": "c91bd368-10ff-484c-951f-00e2f903f263",
   "metadata": {},
   "outputs": [
    {
     "data": {
      "text/plain": [
       "array([[0.66785762, 0.81706931, 0.38624222],\n",
       "       [0.0976797 , 0.21769011, 0.99855556],\n",
       "       [0.12846137, 0.1174548 , 0.25476092]])"
      ]
     },
     "execution_count": 38,
     "metadata": {},
     "output_type": "execute_result"
    }
   ],
   "source": [
    "# rastgele sayı üretme [0,1] arasında sürekli üniform dağılım \n",
    "rastgele_dizi = np.random.random((3,3))\n",
    "rastgele_dizi"
   ]
  },
  {
   "cell_type": "markdown",
   "id": "0ca814dd-3ffd-4f52-8fc0-370b06ad65ba",
   "metadata": {},
   "source": [
    "## Indeksleme ve Dilimleme"
   ]
  },
  {
   "cell_type": "code",
   "execution_count": 39,
   "id": "0c2a3a29-7728-4668-8f76-fae9ceaf5405",
   "metadata": {},
   "outputs": [],
   "source": [
    "import numpy as np"
   ]
  },
  {
   "cell_type": "code",
   "execution_count": 40,
   "id": "b6ec4c84-14b3-4bc1-9784-0653082830af",
   "metadata": {},
   "outputs": [],
   "source": [
    "dizi = np.array([1,2,3,4,5,6,7])"
   ]
  },
  {
   "cell_type": "code",
   "execution_count": 41,
   "id": "4481be4b-f47b-476e-aeac-bf30c465602d",
   "metadata": {},
   "outputs": [
    {
     "data": {
      "text/plain": [
       "1"
      ]
     },
     "execution_count": 41,
     "metadata": {},
     "output_type": "execute_result"
    }
   ],
   "source": [
    "# dizinin 1. elemanı yani sıfırncı indekste bulunan elemanı\n",
    "dizi[0]"
   ]
  },
  {
   "cell_type": "code",
   "execution_count": 42,
   "id": "fcee28a5-3d41-400b-b61a-297046d5a430",
   "metadata": {},
   "outputs": [
    {
     "data": {
      "text/plain": [
       "array([1, 2, 3, 4])"
      ]
     },
     "execution_count": 42,
     "metadata": {},
     "output_type": "execute_result"
    }
   ],
   "source": [
    "# dizinin ilk 4 elemanı\n",
    "dizi[:4]"
   ]
  },
  {
   "cell_type": "code",
   "execution_count": 43,
   "id": "bc571b7a-7329-46aa-aec7-fa886a5572a4",
   "metadata": {},
   "outputs": [
    {
     "data": {
      "text/plain": [
       "array([7, 6, 5, 4, 3, 2, 1])"
      ]
     },
     "execution_count": 43,
     "metadata": {},
     "output_type": "execute_result"
    }
   ],
   "source": [
    "# dizinin tersi\n",
    "dizi[::-1]"
   ]
  },
  {
   "cell_type": "code",
   "execution_count": 48,
   "id": "376be84d-20e1-4cf6-8012-342b955e5252",
   "metadata": {},
   "outputs": [
    {
     "data": {
      "text/plain": [
       "array([[ 1,  2,  3,  4,  5],\n",
       "       [ 6,  7,  8,  9, 10]])"
      ]
     },
     "execution_count": 48,
     "metadata": {},
     "output_type": "execute_result"
    }
   ],
   "source": [
    "dizi_2D = np.array([[1,2,3,4,5],[6,7,8,9,10]]) # 2 boyutlu dizilerde indisleme ve dilimleme\n",
    "dizi_2D"
   ]
  },
  {
   "cell_type": "code",
   "execution_count": 49,
   "id": "e9fcf249-9b3c-4664-a00a-226218da2393",
   "metadata": {},
   "outputs": [
    {
     "data": {
      "text/plain": [
       "7"
      ]
     },
     "execution_count": 49,
     "metadata": {},
     "output_type": "execute_result"
    }
   ],
   "source": [
    "# dizinin 1. satır ve 1.sütunun da bulunan eleman; indisler saymaya sıfırdan başlar\n",
    "dizi_2D[1,1]"
   ]
  },
  {
   "cell_type": "code",
   "execution_count": 50,
   "id": "c7d7e8bc-c34b-4983-8a53-5e58d9aceaea",
   "metadata": {},
   "outputs": [
    {
     "data": {
      "text/plain": [
       "array([2, 7])"
      ]
     },
     "execution_count": 50,
     "metadata": {},
     "output_type": "execute_result"
    }
   ],
   "source": [
    "# dizinin 1.sütununun tüm satırı\n",
    "dizi_2D[:,1]"
   ]
  },
  {
   "cell_type": "code",
   "execution_count": 51,
   "id": "126fd25c-9fa3-4c54-90dd-76da5059fba5",
   "metadata": {},
   "outputs": [
    {
     "data": {
      "text/plain": [
       "array([7, 8, 9])"
      ]
     },
     "execution_count": 51,
     "metadata": {},
     "output_type": "execute_result"
    }
   ],
   "source": [
    "# dizinin 1. satırının 1.2.3. elemanı\n",
    "dizi_2D[1,1:4]"
   ]
  },
  {
   "cell_type": "code",
   "execution_count": 52,
   "id": "7c58aaa1-a5b5-404d-93ae-429ad100fb42",
   "metadata": {},
   "outputs": [
    {
     "data": {
      "text/plain": [
       "array([ 6,  7,  8,  9, 10])"
      ]
     },
     "execution_count": 52,
     "metadata": {},
     "output_type": "execute_result"
    }
   ],
   "source": [
    "# dizinin son satırının tüm sutunları\n",
    "dizi_2D[-1,:]"
   ]
  },
  {
   "cell_type": "code",
   "execution_count": 54,
   "id": "e4b8f0e5-2fbf-4d0c-b008-1fa5924fcb03",
   "metadata": {},
   "outputs": [
    {
     "data": {
      "text/plain": [
       "array([ 5, 10])"
      ]
     },
     "execution_count": 54,
     "metadata": {},
     "output_type": "execute_result"
    }
   ],
   "source": [
    "# dizinin son sütununun tüm satırları\n",
    "dizi_2D[:,-1]"
   ]
  },
  {
   "cell_type": "markdown",
   "id": "cea4d485-8ddc-41c8-8b48-9fc3fc89e092",
   "metadata": {},
   "source": [
    "## Şekil Manipülasyonu ve Dizileri İstifleme"
   ]
  },
  {
   "cell_type": "code",
   "execution_count": 55,
   "id": "200a980b-56f9-472a-b046-40f362369b5a",
   "metadata": {},
   "outputs": [],
   "source": [
    "import numpy as np"
   ]
  },
  {
   "cell_type": "code",
   "execution_count": 56,
   "id": "97f5e370-cf43-4dc9-b8ee-da1f37dec527",
   "metadata": {},
   "outputs": [
    {
     "data": {
      "text/plain": [
       "array([[1, 2, 3],\n",
       "       [4, 5, 6],\n",
       "       [7, 8, 9]])"
      ]
     },
     "execution_count": 56,
     "metadata": {},
     "output_type": "execute_result"
    }
   ],
   "source": [
    "dizi_2D = np.array([[1,2,3],[4,5,6],[7,8,9]])\n",
    "dizi_2D"
   ]
  },
  {
   "cell_type": "code",
   "execution_count": 59,
   "id": "e8d5716b-609c-4416-9083-84696b684a5b",
   "metadata": {},
   "outputs": [
    {
     "data": {
      "text/plain": [
       "array([1, 2, 3, 4, 5, 6, 7, 8, 9])"
      ]
     },
     "execution_count": 59,
     "metadata": {},
     "output_type": "execute_result"
    }
   ],
   "source": [
    "# vektör haline getirme\n",
    "vektor = dizi_2D.ravel() # tek dizi haline getirmek için ravel fonksiyonu kkullanılır\n",
    "vektor"
   ]
  },
  {
   "cell_type": "code",
   "execution_count": 62,
   "id": "e16984dc-055e-4a8f-a6e9-79f749b070ac",
   "metadata": {},
   "outputs": [
    {
     "data": {
      "text/plain": [
       "array([[1, 2, 3],\n",
       "       [4, 5, 6],\n",
       "       [7, 8, 9]])"
      ]
     },
     "execution_count": 62,
     "metadata": {},
     "output_type": "execute_result"
    }
   ],
   "source": [
    "vektor.reshape(3,3) # tekrar parçalıyoruz\n"
   ]
  },
  {
   "cell_type": "code",
   "execution_count": 64,
   "id": "306ce0df-30e0-42d4-9111-8afcfc6dcfeb",
   "metadata": {},
   "outputs": [
    {
     "data": {
      "text/plain": [
       "array([[1, 4, 7],\n",
       "       [2, 5, 8],\n",
       "       [3, 6, 9]])"
      ]
     },
     "execution_count": 64,
     "metadata": {},
     "output_type": "execute_result"
    }
   ],
   "source": [
    "# dizilerde satırları sütuna sütunları satıra çevirme işlemi için transpose yapılır\n",
    "dizi_2D.T # .T bukadar :)"
   ]
  },
  {
   "cell_type": "code",
   "execution_count": 67,
   "id": "42b6516f-4cd6-4400-8778-a42c734fbab1",
   "metadata": {},
   "outputs": [
    {
     "data": {
      "text/plain": [
       "array([[1, 2],\n",
       "       [3, 4]])"
      ]
     },
     "execution_count": 67,
     "metadata": {},
     "output_type": "execute_result"
    }
   ],
   "source": [
    "dizi1 = np.array([[1,2],[3,4]])\n",
    "dizi1"
   ]
  },
  {
   "cell_type": "code",
   "execution_count": 68,
   "id": "8f88089e-67e6-497f-bd12-18b31106ea3b",
   "metadata": {},
   "outputs": [
    {
     "data": {
      "text/plain": [
       "array([[-1, -2],\n",
       "       [-3, -4]])"
      ]
     },
     "execution_count": 68,
     "metadata": {},
     "output_type": "execute_result"
    }
   ],
   "source": [
    "dizi2 = np.array([[-1,-2],[-3,-4]])\n",
    "dizi2"
   ]
  },
  {
   "cell_type": "code",
   "execution_count": 70,
   "id": "c9ea0f2c-acad-4351-8545-d85b9d5da2a6",
   "metadata": {},
   "outputs": [
    {
     "data": {
      "text/plain": [
       "array([[ 1,  2],\n",
       "       [ 3,  4],\n",
       "       [-1, -2],\n",
       "       [-3, -4]])"
      ]
     },
     "execution_count": 70,
     "metadata": {},
     "output_type": "execute_result"
    }
   ],
   "source": [
    "# 2 dizi'yi allt alta istiflemek için vstack\n",
    "dizi_dikey = np.vstack((dizi1,dizi2))\n",
    "dizi_dikey"
   ]
  },
  {
   "cell_type": "code",
   "execution_count": 71,
   "id": "9567b9dc-0713-4fd6-9300-22ee4d2c43de",
   "metadata": {},
   "outputs": [
    {
     "data": {
      "text/plain": [
       "array([[ 1,  2, -1, -2],\n",
       "       [ 3,  4, -3, -4]])"
      ]
     },
     "execution_count": 71,
     "metadata": {},
     "output_type": "execute_result"
    }
   ],
   "source": [
    "# 2 dizi yi yan yana istiflemek için hstack()\n",
    "yatay_dizi = np.hstack((dizi1,dizi2))\n",
    "yatay_dizi"
   ]
  },
  {
   "cell_type": "code",
   "execution_count": null,
   "id": "53732f7c-55e3-4367-8a9f-728ffde7aa84",
   "metadata": {},
   "outputs": [],
   "source": []
  }
 ],
 "metadata": {
  "kernelspec": {
   "display_name": "default:Python",
   "language": "python",
   "name": "conda-env-default-py"
  },
  "language_info": {
   "codemirror_mode": {
    "name": "ipython",
    "version": 3
   },
   "file_extension": ".py",
   "mimetype": "text/x-python",
   "name": "python",
   "nbconvert_exporter": "python",
   "pygments_lexer": "ipython3",
   "version": "3.9.10"
  }
 },
 "nbformat": 4,
 "nbformat_minor": 5
}

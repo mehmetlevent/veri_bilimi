{
 "cells": [
  {
   "cell_type": "code",
   "execution_count": 1,
   "id": "treated-sellers",
   "metadata": {},
   "outputs": [],
   "source": [
    "import time\n",
    "import pandas as pd\n",
    "from selenium import webdriver"
   ]
  },
  {
   "cell_type": "code",
   "execution_count": null,
   "id": "lightweight-diversity",
   "metadata": {},
   "outputs": [],
   "source": [
    "def listToString(s):  \n",
    "    \n",
    "    # initialize an empty string \n",
    "    str1 = \" \" \n",
    "    \n",
    "    # return string   \n",
    "    return (str1.join(s)) \n",
    "\n",
    "# Bu aşamada selenium ile veri çekmeye başlıyoruz.\n",
    "\n",
    "# chrome driverin yolunu veriyoruz. Selenium u kullanmak için gereklidir.\n",
    "driver_path = \"C:\\\\..\\\\chromedriver_win32\\\\chromedriver.exe\"\n",
    "# browser adında bi değişken oluşturuyoruz ve driver yolumuzu veriyoruz. Bunu ortam değişkenlerine eklememiz gerekiyor öncesinde\n",
    "browser = webdriver.Chrome(driver_path)\n",
    "# browser get ile verdiğimiz adres de ki web sitesine gitmiş oluyoruz.\n",
    "browser.get(\"https://www.emlakjet.com/satilik-konut/mugla-fethiye/15/\")"
   ]
  },
  {
   "cell_type": "code",
   "execution_count": null,
   "id": "quantitative-pillow",
   "metadata": {},
   "outputs": [],
   "source": [
    "i = 1\n",
    "while i<=36:\n",
    "    tıkla = browser.find_element_by_xpath(\"//*[@id='__next']/div[3]/div[1]/div/div[5]/div[1]/div[1]/div[\"+str(i)+\"]\")\n",
    "    # click diyerek de bu linke tıklıyor ve evin detaylarına bakmak için sayfaya girmiş oluyoruz.\n",
    "    tıkla.click()\n",
    "    #styles_content__1Ruc6 styles_overflowNone__1W47S \n",
    "    # özelliklerin hepsini almak için bu sefer bu kod ile orda ki css bloğuna göre veriyi çekeceğiz. \n",
    "    elements = browser.find_elements_by_css_selector(\".styles_contentWrap__13x35\")\n",
    "    # özellikleri bir önceki kodda aldık şimdi de evin fiyatını alıyoruz ve değişkene kaydediyoruz.\n",
    "    fiyatlar = browser.find_elements_by_css_selector(\".styles_price__1e65F\")\n",
    "    detaylar = []\n",
    "    fiyat = []\n",
    "    # çektiğimiz veriler text string olmadığı için verileri stringe çevirip demin oluşturduğumuz boş listeye atıyoruz.\n",
    "    # unutmayalım ki verileri çektiğiniz de liste olarak gelir.\n",
    "    for k in fiyatlar:\n",
    "        print(k.text)\n",
    "        fiyat.append(k.text)\n",
    "    # özellikleri de stringe çevirerek listeye atıyoruz.\n",
    "    for l in elements:\n",
    "        print(l.text)\n",
    "        detaylar.append(l.text)\n",
    "    # elimizde string olan liste halinde veriler var. Önceden oluşturduğumuz listeden stringe çevirme fonksyonuyla stringe \n",
    "    # çeviyoruz.\n",
    "    det_str = listToString(detaylar)\n",
    "    # string verimizi split ile satırlara göre ayırıyoruz. Ve ayrı adında değişkene atıyoruz.\n",
    "    ayrı = det_str.split(\"\\n\")\n",
    "    # demin oluşturduğumuz ayrı değişkenini DataFrame çeviriyoruz. \n",
    "    df = pd.DataFrame(ayrı)\n",
    "    # Verimizde ki gereksiz verilerden kurtulmak için onları ayırıyoruz.\n",
    "    df_yeni = df.iloc[7:53]\n",
    "    df_yeni.iloc[45] = df_yeni.iloc[45].str[0:3]\n",
    "    # değişiklikler yaptığımız için indexleri resetliyoruz.\n",
    "    df_yeni = df_yeni.reset_index()\n",
    "    # gereksiz oluşan şndex sütununu siliyoruz.\n",
    "    df_yeni.drop(\"index\", axis = 1, inplace = True)\n",
    "    # verilerimizi tekrar listeye çeviriyorum.\n",
    "    df_liste = df_yeni.values.tolist()\n",
    "    # içerikler adında boş liste oluşturuyprum amacım şu şuan elimizde ki veri sütun adlarını ve içeriklerini barındırıyor.\n",
    "    # içerikleri sütun adlarından ayırmak için bu işlemi yapıyoruz.\n",
    "    içerikler =[]\n",
    "    m = 1\n",
    "    while m <= 45:\n",
    "        #print(df_liste[m])\n",
    "        içerikler.append(df_liste[m])\n",
    "        m = m+2\n",
    "    # Hatırlarsanız fiyatı başka bi yerde çekmiştik ve bunu da içeriklere yeni bi sütuna ekliyoruz.\n",
    "    # öncesinde fiyat değişkeninde ki gereksiz verileri siliyoruz. TL yazısını ve strip ile gereksiz boşlukları\n",
    "    fiyat_sade = fiyat[1].strip()\n",
    "    fiyat_sade = fiyat_sade.replace(\"TL\",\"\")\n",
    "    # içerikler kısmına fiyatı ekliyoruz.\n",
    "    içerikler.append([fiyat_sade])\n",
    "    # şuan liste halinde olan verimizi Df e çeviriyoruz ve transpozunu alıyoruz.\n",
    "    df_içerikler = pd.DataFrame(içerikler).T\n",
    "    # verimizi csv dosyasına çeviriyoruz ve modu append yapıyoruz. Çünkü diğer çektiğimiz verileri de oraya ekleyeceğiz.\n",
    "    # eğer mode = a yapmassak diğer gelen veriyi üzerine yazacaktır.\n",
    "    df_içerikler.to_csv(r\"emlak2.csv\",encoding=\"utf-8\",index=False, mode=\"a\")\n",
    "    \n",
    "    # i değişkeni sayfada ki evlerin xpath de ki sayısıydı\n",
    "    i = i+1\n",
    "    # reklam ve diğer veri hacinde olan divleri atlayalım\n",
    "    if  i == 3:\n",
    "        i=i+1\n",
    "    if  i == 4:\n",
    "        i=i+1\n",
    "    if  i == 8:\n",
    "        i=i+1\n",
    "    if  i == 9:\n",
    "        i=i+1\n",
    "    if  i == 11:\n",
    "        i=i+1\n",
    "    if  i == 12:\n",
    "        i=i+1\n",
    "    if  i == 15:\n",
    "        i=i+1\n",
    "    \n",
    "    # bu kod ile bi önceki sayfaya geçiyoruz.\n",
    "    browser.execute_script(\"window.history.go(-1)\")"
   ]
  },
  {
   "cell_type": "code",
   "execution_count": null,
   "id": "featured-finance",
   "metadata": {},
   "outputs": [],
   "source": [
    "df_ = pd.read_csv(\"emlak2.csv\")\n",
    "df_"
   ]
  },
  {
   "cell_type": "code",
   "execution_count": null,
   "id": "healthy-reporter",
   "metadata": {},
   "outputs": [],
   "source": [
    "i = 1\n",
    "while i <= 380:\n",
    "    df_.drop(i,inplace = True)\n",
    "    i=i+2"
   ]
  },
  {
   "cell_type": "code",
   "execution_count": null,
   "id": "enabling-gibraltar",
   "metadata": {},
   "outputs": [],
   "source": [
    "df_ = df_.reset_index()\n",
    "df_.drop(\"index\", axis = 1, inplace = True)\n",
    "df_"
   ]
  },
  {
   "cell_type": "code",
   "execution_count": null,
   "id": "pregnant-judgment",
   "metadata": {},
   "outputs": [],
   "source": [
    "df_.to_excel(\"emlakjet2.xlsx\") "
   ]
  }
 ],
 "metadata": {
  "kernelspec": {
   "display_name": "Python 3",
   "language": "python",
   "name": "python3"
  },
  "language_info": {
   "codemirror_mode": {
    "name": "ipython",
    "version": 3
   },
   "file_extension": ".py",
   "mimetype": "text/x-python",
   "name": "python",
   "nbconvert_exporter": "python",
   "pygments_lexer": "ipython3",
   "version": "3.9.2"
  }
 },
 "nbformat": 4,
 "nbformat_minor": 5
}

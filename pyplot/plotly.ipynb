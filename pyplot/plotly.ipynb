{
 "cells": [
  {
   "cell_type": "code",
   "execution_count": 1,
   "id": "6833d73c-465a-4437-b046-a93e399a80f7",
   "metadata": {},
   "outputs": [
    {
     "name": "stdout",
     "output_type": "stream",
     "text": [
      "Collecting package metadata (current_repodata.json): done\n",
      "Solving environment: done\n",
      "\n",
      "\n",
      "==> WARNING: A newer version of conda exists. <==\n",
      "  current version: 4.10.3\n",
      "  latest version: 4.11.0\n",
      "\n",
      "Please update conda by running\n",
      "\n",
      "    $ conda update -n base conda\n",
      "\n",
      "\n",
      "\n",
      "## Package Plan ##\n",
      "\n",
      "  environment location: /home/studio-lab-user/.conda/envs/default\n",
      "\n",
      "  added / updated specs:\n",
      "    - plotly\n",
      "\n",
      "\n",
      "The following packages will be downloaded:\n",
      "\n",
      "    package                    |            build\n",
      "    ---------------------------|-----------------\n",
      "    plotly-5.6.0               |     pyhd8ed1ab_0         6.9 MB  conda-forge\n",
      "    tenacity-8.0.1             |     pyhd8ed1ab_0          21 KB  conda-forge\n",
      "    ------------------------------------------------------------\n",
      "                                           Total:         6.9 MB\n",
      "\n",
      "The following NEW packages will be INSTALLED:\n",
      "\n",
      "  plotly             conda-forge/noarch::plotly-5.6.0-pyhd8ed1ab_0\n",
      "  tenacity           conda-forge/noarch::tenacity-8.0.1-pyhd8ed1ab_0\n",
      "\n",
      "\n",
      "\n",
      "Downloading and Extracting Packages\n",
      "plotly-5.6.0         | 6.9 MB    | ##################################### | 100% \n",
      "tenacity-8.0.1       | 21 KB     | ##################################### | 100% \n",
      "Preparing transaction: done\n",
      "Verifying transaction: done\n",
      "Executing transaction: done\n",
      "\n",
      "Note: you may need to restart the kernel to use updated packages.\n"
     ]
    }
   ],
   "source": [
    "%conda install plotly"
   ]
  },
  {
   "cell_type": "code",
   "execution_count": 27,
   "id": "3497c01e-1978-4083-add7-186aade5f969",
   "metadata": {},
   "outputs": [
    {
     "data": {
      "text/html": [
       "        <script type=\"text/javascript\">\n",
       "        window.PlotlyConfig = {MathJaxConfig: 'local'};\n",
       "        if (window.MathJax) {MathJax.Hub.Config({SVG: {font: \"STIX-Web\"}});}\n",
       "        if (typeof require !== 'undefined') {\n",
       "        require.undef(\"plotly\");\n",
       "        requirejs.config({\n",
       "            paths: {\n",
       "                'plotly': ['https://cdn.plot.ly/plotly-2.9.0.min']\n",
       "            }\n",
       "        });\n",
       "        require(['plotly'], function(Plotly) {\n",
       "            window._Plotly = Plotly;\n",
       "        });\n",
       "        }\n",
       "        </script>\n",
       "        "
      ]
     },
     "metadata": {},
     "output_type": "display_data"
    }
   ],
   "source": [
    "import pandas as pd\n",
    "import matplotlib.pyplot as plt\n",
    "import numpy as np\n",
    "\n",
    "import warnings\n",
    "warnings.filterwarnings(\"ignore\")\n",
    "\n",
    "# plotly\n",
    "from plotly.offline import init_notebook_mode, iplot, plot\n",
    "import plotly as py\n",
    "init_notebook_mode(connected=True)\n",
    "import plotly.graph_objs as go\n",
    "import plotly.io as pio\n",
    "import plotly.figure_factory as ff"
   ]
  },
  {
   "cell_type": "code",
   "execution_count": 28,
   "id": "478c57d2-02e7-4ed8-830b-341fe53be946",
   "metadata": {},
   "outputs": [
    {
     "data": {
      "text/html": [
       "<div>\n",
       "<style scoped>\n",
       "    .dataframe tbody tr th:only-of-type {\n",
       "        vertical-align: middle;\n",
       "    }\n",
       "\n",
       "    .dataframe tbody tr th {\n",
       "        vertical-align: top;\n",
       "    }\n",
       "\n",
       "    .dataframe thead th {\n",
       "        text-align: right;\n",
       "    }\n",
       "</style>\n",
       "<table border=\"1\" class=\"dataframe\">\n",
       "  <thead>\n",
       "    <tr style=\"text-align: right;\">\n",
       "      <th></th>\n",
       "      <th>world_rank</th>\n",
       "      <th>university_name</th>\n",
       "      <th>country</th>\n",
       "      <th>teaching</th>\n",
       "      <th>international</th>\n",
       "      <th>research</th>\n",
       "      <th>citations</th>\n",
       "      <th>income</th>\n",
       "      <th>total_score</th>\n",
       "      <th>num_students</th>\n",
       "      <th>student_staff_ratio</th>\n",
       "      <th>international_students</th>\n",
       "      <th>female_male_ratio</th>\n",
       "      <th>year</th>\n",
       "    </tr>\n",
       "  </thead>\n",
       "  <tbody>\n",
       "    <tr>\n",
       "      <th>0</th>\n",
       "      <td>1</td>\n",
       "      <td>Harvard University</td>\n",
       "      <td>United States of America</td>\n",
       "      <td>99.7</td>\n",
       "      <td>72.4</td>\n",
       "      <td>98.7</td>\n",
       "      <td>98.8</td>\n",
       "      <td>34.5</td>\n",
       "      <td>96.1</td>\n",
       "      <td>20,152</td>\n",
       "      <td>8.9</td>\n",
       "      <td>25%</td>\n",
       "      <td>NaN</td>\n",
       "      <td>2011</td>\n",
       "    </tr>\n",
       "    <tr>\n",
       "      <th>1</th>\n",
       "      <td>2</td>\n",
       "      <td>California Institute of Technology</td>\n",
       "      <td>United States of America</td>\n",
       "      <td>97.7</td>\n",
       "      <td>54.6</td>\n",
       "      <td>98.0</td>\n",
       "      <td>99.9</td>\n",
       "      <td>83.7</td>\n",
       "      <td>96.0</td>\n",
       "      <td>2,243</td>\n",
       "      <td>6.9</td>\n",
       "      <td>27%</td>\n",
       "      <td>33 : 67</td>\n",
       "      <td>2011</td>\n",
       "    </tr>\n",
       "    <tr>\n",
       "      <th>2</th>\n",
       "      <td>3</td>\n",
       "      <td>Massachusetts Institute of Technology</td>\n",
       "      <td>United States of America</td>\n",
       "      <td>97.8</td>\n",
       "      <td>82.3</td>\n",
       "      <td>91.4</td>\n",
       "      <td>99.9</td>\n",
       "      <td>87.5</td>\n",
       "      <td>95.6</td>\n",
       "      <td>11,074</td>\n",
       "      <td>9.0</td>\n",
       "      <td>33%</td>\n",
       "      <td>37 : 63</td>\n",
       "      <td>2011</td>\n",
       "    </tr>\n",
       "  </tbody>\n",
       "</table>\n",
       "</div>"
      ],
      "text/plain": [
       "  world_rank                        university_name                   country  \\\n",
       "0          1                     Harvard University  United States of America   \n",
       "1          2     California Institute of Technology  United States of America   \n",
       "2          3  Massachusetts Institute of Technology  United States of America   \n",
       "\n",
       "   teaching international  research  citations income total_score  \\\n",
       "0      99.7          72.4      98.7       98.8   34.5        96.1   \n",
       "1      97.7          54.6      98.0       99.9   83.7        96.0   \n",
       "2      97.8          82.3      91.4       99.9   87.5        95.6   \n",
       "\n",
       "  num_students  student_staff_ratio international_students female_male_ratio  \\\n",
       "0       20,152                  8.9                    25%               NaN   \n",
       "1        2,243                  6.9                    27%           33 : 67   \n",
       "2       11,074                  9.0                    33%           37 : 63   \n",
       "\n",
       "   year  \n",
       "0  2011  \n",
       "1  2011  \n",
       "2  2011  "
      ]
     },
     "execution_count": 28,
     "metadata": {},
     "output_type": "execute_result"
    }
   ],
   "source": [
    "veri = pd.read_csv(\"universite_siralamasi.csv\")\n",
    "veri.head(3)"
   ]
  },
  {
   "cell_type": "code",
   "execution_count": 29,
   "id": "6127273e-6db3-4dfb-af81-3798cf9a093d",
   "metadata": {},
   "outputs": [
    {
     "data": {
      "text/plain": [
       "Index(['world_rank', 'university_name', 'country', 'teaching', 'international',\n",
       "       'research', 'citations', 'income', 'total_score', 'num_students',\n",
       "       'student_staff_ratio', 'international_students', 'female_male_ratio',\n",
       "       'year'],\n",
       "      dtype='object')"
      ]
     },
     "execution_count": 29,
     "metadata": {},
     "output_type": "execute_result"
    }
   ],
   "source": [
    "veri.columns"
   ]
  },
  {
   "cell_type": "code",
   "execution_count": 30,
   "id": "08be0947-8662-497f-896a-e7666f1dd5fb",
   "metadata": {},
   "outputs": [],
   "source": [
    "veri.rename(columns= {'world_rank'                     :'dunya_siralama',\n",
    "                      'university_name'                :'uni_isim',\n",
    "                      'country'                        :'ulke',\n",
    "                      'teaching'                       :'ogretim',\n",
    "                      'international'                  :'uluslararasi',\n",
    "                      'research'                       :'arastirma',\n",
    "                      'citations'                      :'alinti',\n",
    "                      'income'                         :'gelir',\n",
    "                      'total_score'                    :'toplam_puan',\n",
    "                      'num_students'                   :'ogrenci_sayisi',\n",
    "                      'student_staff_ratio'            :'ogrenci_calisan_orani',\n",
    "                      'international_students'         :'uluslararasi_ogrenci',\n",
    "                      'female_male_ratio'              :'kadi_erkek_orani',\n",
    "                      'year'                           :'yil'}, inplace =True) # inplace =true dediğimiz zaman ismi değiştirilen sütunlar otomatik olarak veri isimli değişkene kaydedilecek"
   ]
  },
  {
   "cell_type": "code",
   "execution_count": 31,
   "id": "96a9dd51-283b-4c32-9f74-edfa0816902b",
   "metadata": {},
   "outputs": [
    {
     "data": {
      "text/html": [
       "<div>\n",
       "<style scoped>\n",
       "    .dataframe tbody tr th:only-of-type {\n",
       "        vertical-align: middle;\n",
       "    }\n",
       "\n",
       "    .dataframe tbody tr th {\n",
       "        vertical-align: top;\n",
       "    }\n",
       "\n",
       "    .dataframe thead th {\n",
       "        text-align: right;\n",
       "    }\n",
       "</style>\n",
       "<table border=\"1\" class=\"dataframe\">\n",
       "  <thead>\n",
       "    <tr style=\"text-align: right;\">\n",
       "      <th></th>\n",
       "      <th>dunya_siralama</th>\n",
       "      <th>uni_isim</th>\n",
       "      <th>ulke</th>\n",
       "      <th>ogretim</th>\n",
       "      <th>uluslararasi</th>\n",
       "      <th>arastirma</th>\n",
       "      <th>alinti</th>\n",
       "      <th>gelir</th>\n",
       "      <th>toplam_puan</th>\n",
       "      <th>ogrenci_sayisi</th>\n",
       "      <th>ogrenci_calisan_orani</th>\n",
       "      <th>uluslararasi_ogrenci</th>\n",
       "      <th>kadi_erkek_orani</th>\n",
       "      <th>yil</th>\n",
       "    </tr>\n",
       "  </thead>\n",
       "  <tbody>\n",
       "    <tr>\n",
       "      <th>0</th>\n",
       "      <td>1</td>\n",
       "      <td>Harvard University</td>\n",
       "      <td>United States of America</td>\n",
       "      <td>99.7</td>\n",
       "      <td>72.4</td>\n",
       "      <td>98.7</td>\n",
       "      <td>98.8</td>\n",
       "      <td>34.5</td>\n",
       "      <td>96.1</td>\n",
       "      <td>20,152</td>\n",
       "      <td>8.9</td>\n",
       "      <td>25%</td>\n",
       "      <td>NaN</td>\n",
       "      <td>2011</td>\n",
       "    </tr>\n",
       "    <tr>\n",
       "      <th>1</th>\n",
       "      <td>2</td>\n",
       "      <td>California Institute of Technology</td>\n",
       "      <td>United States of America</td>\n",
       "      <td>97.7</td>\n",
       "      <td>54.6</td>\n",
       "      <td>98.0</td>\n",
       "      <td>99.9</td>\n",
       "      <td>83.7</td>\n",
       "      <td>96.0</td>\n",
       "      <td>2,243</td>\n",
       "      <td>6.9</td>\n",
       "      <td>27%</td>\n",
       "      <td>33 : 67</td>\n",
       "      <td>2011</td>\n",
       "    </tr>\n",
       "    <tr>\n",
       "      <th>2</th>\n",
       "      <td>3</td>\n",
       "      <td>Massachusetts Institute of Technology</td>\n",
       "      <td>United States of America</td>\n",
       "      <td>97.8</td>\n",
       "      <td>82.3</td>\n",
       "      <td>91.4</td>\n",
       "      <td>99.9</td>\n",
       "      <td>87.5</td>\n",
       "      <td>95.6</td>\n",
       "      <td>11,074</td>\n",
       "      <td>9.0</td>\n",
       "      <td>33%</td>\n",
       "      <td>37 : 63</td>\n",
       "      <td>2011</td>\n",
       "    </tr>\n",
       "  </tbody>\n",
       "</table>\n",
       "</div>"
      ],
      "text/plain": [
       "  dunya_siralama                               uni_isim  \\\n",
       "0              1                     Harvard University   \n",
       "1              2     California Institute of Technology   \n",
       "2              3  Massachusetts Institute of Technology   \n",
       "\n",
       "                       ulke  ogretim uluslararasi  arastirma  alinti gelir  \\\n",
       "0  United States of America     99.7         72.4       98.7    98.8  34.5   \n",
       "1  United States of America     97.7         54.6       98.0    99.9  83.7   \n",
       "2  United States of America     97.8         82.3       91.4    99.9  87.5   \n",
       "\n",
       "  toplam_puan ogrenci_sayisi  ogrenci_calisan_orani uluslararasi_ogrenci  \\\n",
       "0        96.1         20,152                    8.9                  25%   \n",
       "1        96.0          2,243                    6.9                  27%   \n",
       "2        95.6         11,074                    9.0                  33%   \n",
       "\n",
       "  kadi_erkek_orani   yil  \n",
       "0              NaN  2011  \n",
       "1          33 : 67  2011  \n",
       "2          37 : 63  2011  "
      ]
     },
     "execution_count": 31,
     "metadata": {},
     "output_type": "execute_result"
    }
   ],
   "source": [
    "veri.head(3)"
   ]
  },
  {
   "cell_type": "code",
   "execution_count": 32,
   "id": "a0364864-47c9-447f-8bfe-9c5407c5fd5f",
   "metadata": {},
   "outputs": [
    {
     "data": {
      "text/html": [
       "<div>\n",
       "<style scoped>\n",
       "    .dataframe tbody tr th:only-of-type {\n",
       "        vertical-align: middle;\n",
       "    }\n",
       "\n",
       "    .dataframe tbody tr th {\n",
       "        vertical-align: top;\n",
       "    }\n",
       "\n",
       "    .dataframe thead th {\n",
       "        text-align: right;\n",
       "    }\n",
       "</style>\n",
       "<table border=\"1\" class=\"dataframe\">\n",
       "  <thead>\n",
       "    <tr style=\"text-align: right;\">\n",
       "      <th></th>\n",
       "      <th>dunya_siralama</th>\n",
       "      <th>uni_isim</th>\n",
       "      <th>ulke</th>\n",
       "      <th>ogretim</th>\n",
       "      <th>uluslararasi</th>\n",
       "      <th>arastirma</th>\n",
       "      <th>alinti</th>\n",
       "      <th>gelir</th>\n",
       "      <th>toplam_puan</th>\n",
       "      <th>ogrenci_sayisi</th>\n",
       "      <th>ogrenci_calisan_orani</th>\n",
       "      <th>uluslararasi_ogrenci</th>\n",
       "      <th>kadi_erkek_orani</th>\n",
       "      <th>yil</th>\n",
       "    </tr>\n",
       "  </thead>\n",
       "  <tbody>\n",
       "    <tr>\n",
       "      <th>0</th>\n",
       "      <td>1</td>\n",
       "      <td>Harvard University</td>\n",
       "      <td>United States of America</td>\n",
       "      <td>99.7</td>\n",
       "      <td>72.4</td>\n",
       "      <td>98.7</td>\n",
       "      <td>98.8</td>\n",
       "      <td>34.5</td>\n",
       "      <td>96.1</td>\n",
       "      <td>20,152</td>\n",
       "      <td>8.9</td>\n",
       "      <td>25%</td>\n",
       "      <td>NaN</td>\n",
       "      <td>2011</td>\n",
       "    </tr>\n",
       "    <tr>\n",
       "      <th>1</th>\n",
       "      <td>2</td>\n",
       "      <td>California Institute of Technology</td>\n",
       "      <td>United States of America</td>\n",
       "      <td>97.7</td>\n",
       "      <td>54.6</td>\n",
       "      <td>98.0</td>\n",
       "      <td>99.9</td>\n",
       "      <td>83.7</td>\n",
       "      <td>96.0</td>\n",
       "      <td>2,243</td>\n",
       "      <td>6.9</td>\n",
       "      <td>27%</td>\n",
       "      <td>33 : 67</td>\n",
       "      <td>2011</td>\n",
       "    </tr>\n",
       "    <tr>\n",
       "      <th>2</th>\n",
       "      <td>3</td>\n",
       "      <td>Massachusetts Institute of Technology</td>\n",
       "      <td>United States of America</td>\n",
       "      <td>97.8</td>\n",
       "      <td>82.3</td>\n",
       "      <td>91.4</td>\n",
       "      <td>99.9</td>\n",
       "      <td>87.5</td>\n",
       "      <td>95.6</td>\n",
       "      <td>11,074</td>\n",
       "      <td>9.0</td>\n",
       "      <td>33%</td>\n",
       "      <td>37 : 63</td>\n",
       "      <td>2011</td>\n",
       "    </tr>\n",
       "  </tbody>\n",
       "</table>\n",
       "</div>"
      ],
      "text/plain": [
       "  dunya_siralama                               uni_isim  \\\n",
       "0              1                     Harvard University   \n",
       "1              2     California Institute of Technology   \n",
       "2              3  Massachusetts Institute of Technology   \n",
       "\n",
       "                       ulke  ogretim uluslararasi  arastirma  alinti gelir  \\\n",
       "0  United States of America     99.7         72.4       98.7    98.8  34.5   \n",
       "1  United States of America     97.7         54.6       98.0    99.9  83.7   \n",
       "2  United States of America     97.8         82.3       91.4    99.9  87.5   \n",
       "\n",
       "  toplam_puan ogrenci_sayisi  ogrenci_calisan_orani uluslararasi_ogrenci  \\\n",
       "0        96.1         20,152                    8.9                  25%   \n",
       "1        96.0          2,243                    6.9                  27%   \n",
       "2        95.6         11,074                    9.0                  33%   \n",
       "\n",
       "  kadi_erkek_orani   yil  \n",
       "0              NaN  2011  \n",
       "1          33 : 67  2011  \n",
       "2          37 : 63  2011  "
      ]
     },
     "execution_count": 32,
     "metadata": {},
     "output_type": "execute_result"
    }
   ],
   "source": [
    "df = veri.iloc[:100,:]\n",
    "df.head(3)\n"
   ]
  },
  {
   "cell_type": "code",
   "execution_count": 33,
   "id": "35cfc3fc-6a6d-4ae3-adca-c97ab9318e04",
   "metadata": {},
   "outputs": [],
   "source": [
    "pio.templates.default = \"simple_white\""
   ]
  },
  {
   "cell_type": "code",
   "execution_count": 34,
   "id": "ec2b9ba5-ee6c-4ce3-8134-890dab1ec85c",
   "metadata": {},
   "outputs": [
    {
     "data": {
      "text/plain": [
       "'1_cizgi_alinti_ve_ogretim_puanlari.html'"
      ]
     },
     "execution_count": 34,
     "metadata": {},
     "output_type": "execute_result"
    }
   ],
   "source": [
    "# ilk grafik\n",
    "cizgi1= go.Scatter(x= df.dunya_siralama,  # x ekseninde dünya sıralamsı olsun\n",
    "                   y=df.alinti,           #y eksenin de alinti olsun\n",
    "                   mode= \"lines+markers\", # grafik çizgi ve saçılım olsun\n",
    "                   name= \"Alıntı\",        #etiketi alıntı olsun\n",
    "                   marker= dict(color='rgba(78, 78, 250, 0.85)'), # renk\n",
    "                   text = df.uni_isim) #grafik üzerinde imleç ilgili noktaya gelince, üniversite ismi yazsın\n",
    "# ikinci grafik\n",
    "cizgi2 = go.Scatter(x= df.dunya_siralama, # x eksenin de dünya sıralaması olsun\n",
    "                    y= df.ogretim,        # y ekseninde eğitim-öğretim faaliyetlerinden alınan puan olsun\n",
    "                    mode= \"lines+markers\", # grafik çizgi ve saçılım olsun\n",
    "                    name=\"Öğretim\",       #etiketi öğretim olsun\n",
    "                    marker = dict(color= 'rgba(202, 43, 15, 0.85)'), # renk\n",
    "                    text= df.uni_isim) # grafik üzerinde imleç ilgili noktaya gelince, üniversite ismi yazsın\n",
    "veri_ = [cizgi1, cizgi2] # 2 grafiğiveri_ değişkeni içerisine koyalım.\n",
    "# baslık ekle ve eksen ayarlarını yap\n",
    "yerlesim = dict(title=\"Dünya Sıralamsında ilk 100 üniversitenin Alıntı ve Öğretim Puanları\",\n",
    "                xaxis = dict(title=\"Dünya Sıralaması\", ticklen = 5, zeroline= False))\n",
    "fig = dict(data = veri_, layout= yerlesim) # figür oluştur\n",
    "plot(fig, filename= '1_cizgi_alinti_ve_ogretim_puanlari.html') # html olarak kaydet"
   ]
  },
  {
   "cell_type": "code",
   "execution_count": 35,
   "id": "173e5c6f-6843-44ae-8bda-bddadd710fee",
   "metadata": {},
   "outputs": [
    {
     "data": {
      "text/plain": [
       "'2_sacilim_alinti_ve_dunya_siralamasi.html'"
      ]
     },
     "execution_count": 35,
     "metadata": {},
     "output_type": "execute_result"
    }
   ],
   "source": [
    "# plotly saçılım grafiği\n",
    "# 2014, 2015 2016 yıllarını ayıralım ve ilk 100 e giren örneği alalım\n",
    "veri2014 = veri[veri.yil == 2014].iloc[:100, :]\n",
    "veri2015 = veri[veri.yil == 2015].iloc[:100, :]\n",
    "veri2016 = veri[veri.yil == 2016].iloc[:100, :]\n",
    "\n",
    "# ilk grafiği çizelim\n",
    "cizgi1 = go.Scatter(x= veri2014.dunya_siralama, # x eksenin dünya sıralamsı\n",
    "                    y= veri2014.alinti, #y ekseninde alıntı olsun\n",
    "                    mode = \"markers\", # grafik saçılım\n",
    "                    name= \"2014\", #etiketi 2014 yılı\n",
    "                    marker = dict(color = 'rgba(2, 255, 15, 0.8)'), # renk a: alpha değeri\n",
    "                    text = veri2014.uni_isim) # grafik üzeirnde imleç ilgili noktaya gelince, üniversite ismi yazılsın\n",
    "# ikinci grafiği çizelim\n",
    "cizgi2 = go.Scatter(x= veri2015.dunya_siralama,\n",
    "                    y= veri2015.alinti,\n",
    "                    mode = \"markers\",\n",
    "                    name= \"2015\",\n",
    "                    marker = dict(color = 'rgba(255, 0, 123, 0.8)'),\n",
    "                    text= veri2015.uni_isim)\n",
    "#üçüncü grafiği çizelim\n",
    "cizgi3= go.Scatter(x= veri2016.dunya_siralama,\n",
    "                   y= veri2016.alinti,\n",
    "                   mode=\"markers\",\n",
    "                   name=\"2016\",\n",
    "                   marker = dict(color = 'rgba(0, 5, 200, 0.8)'),\n",
    "                   text = veri2016.uni_isim)\n",
    "\n",
    "veri_ = [cizgi1, cizgi2, cizgi3]\n",
    "#başlık ekle ve eksen ayarlarını yap\n",
    "yerlesim = dict ( title = \" 2014, 2015 ve 2016 yıllarında ilk 100 üniversitenin alıntı ve dünya sıralaması\",\n",
    "                xaxis= dict(title=\"dünya sıralamsı\", ticklen = 5, zeroline = False),\n",
    "                yaxis = dict(title = \"alıntı\", ticklen = 5, zeroline = False))\n",
    "fig = dict(data = veri_, layout = yerlesim) # figür oluştur\n",
    "plot(fig, filename = '2_sacilim_alinti_ve_dunya_siralamasi.html') # html olarak kaydet"
   ]
  },
  {
   "cell_type": "code",
   "execution_count": 36,
   "id": "941de490-b18a-4712-8a07-248203d004b8",
   "metadata": {},
   "outputs": [
    {
     "data": {
      "text/plain": [
       "'3_cubuk_alinti_ve_ogretim_puani.html'"
      ]
     },
     "execution_count": 36,
     "metadata": {},
     "output_type": "execute_result"
    }
   ],
   "source": [
    "# plotly çubuk grafiği\n",
    "# 2014 yılının ilk 5 üniversitesini alalım\n",
    "veri2014 = veri[veri.yil == 2014].iloc[:5, :]\n",
    "\n",
    "# ilk grafik\n",
    "cizgi1 = go.Bar( x=veri2014.uni_isim,\n",
    "                y= veri2014.alinti,\n",
    "                name=\"alinti\",\n",
    "                marker = dict( color = 'rgba(255, 127,39,0.5)', #çubuk rengi\n",
    "                              line= dict(color= 'rgb(0,0,0)', width=1.5)), # çubuk etrafındaki çizgilerin rengi ve kalınlığı\n",
    "                text= veri2014.ulke)\n",
    "#ikinci grafik\n",
    "cizgi2= go.Bar(x= veri2014.uni_isim,\n",
    "              y= veri2014.ogretim,\n",
    "              name=\"Öğretim\",\n",
    "              marker = dict(color= 'rgba(64, 0,128,0.5)',\n",
    "                            line= dict(color='rgb(0,0,0)', width=1.5)),\n",
    "              text= veri2014.ulke)\n",
    "veri_ = [cizgi1, cizgi2]\n",
    "yerlesim = go.Layout(barmode= 'group')\n",
    "fig = go.Figure(data = veri_, layout= yerlesim)\n",
    "plot(fig, filename= '3_cubuk_alinti_ve_ogretim_puani.html')"
   ]
  },
  {
   "cell_type": "code",
   "execution_count": 37,
   "id": "69a1e2ba-594e-4355-a7c6-bb06773a603b",
   "metadata": {},
   "outputs": [
    {
     "data": {
      "text/plain": [
       "'4_dairesel_ogrenci_sayisi.html'"
      ]
     },
     "execution_count": 37,
     "metadata": {},
     "output_type": "execute_result"
    }
   ],
   "source": [
    "# pyplot dairesel grafikler\n",
    "# 2016 yılının ilk 8 üniversitesini alalım\n",
    "veri2016 = veri[veri.yil ==2016].iloc[:8,:]\n",
    "dilim1 = veri2016.ogrenci_sayisi\n",
    "\n",
    "dilim1_liste = [float(each.replace(',','.')) for each in veri2016.ogrenci_sayisi] # veri2016 öğrenci sayısı verilerinin içindeki tüm virgülleri nokta yapıyorum sonra alıp ondalık sayı yapıyorum\n",
    "etiketler = veri2016.uni_isim\n",
    "\n",
    "# ilk grafik\n",
    "cizgi = go.Pie(labels = etiketler,\n",
    "               values = dilim1_liste,\n",
    "               hoverinfo = 'label+value+percent',\n",
    "               textinfo= 'value+percent',\n",
    "               textfont = dict(size=8),\n",
    "               rotation = 180,\n",
    "               hole = 0.3, # ortada delik olsn\n",
    "               marker = dict(line = dict(color='#000000', width=1)))\n",
    "veri_ =[cizgi]\n",
    "yerlesim = dict(title =\"2016 yılında dünya sıralamasında ilk 8 de bulunan üniversitelerin öğrenci sayıları ve oranları\",\n",
    "                legend= dict(orientation=\"h\"))\n",
    "fig = dict(data =veri_, layout = yerlesim)\n",
    "plot(fig, filename = '4_dairesel_ogrenci_sayisi.html')"
   ]
  },
  {
   "cell_type": "code",
   "execution_count": 38,
   "id": "009aa210-3337-4351-9e02-a1bb8d643a15",
   "metadata": {},
   "outputs": [
    {
     "data": {
      "text/plain": [
       "'5_kabarcik_ogrenci_sayisi.html'"
      ]
     },
     "execution_count": 38,
     "metadata": {},
     "output_type": "execute_result"
    }
   ],
   "source": [
    "#pyplot kabarcık grafik 4 boyutlu :O\n",
    "# 2016 yılının ilk 20 üniversitesini alalım\n",
    "veri2016 = veri[veri.yil == 2016].iloc[:20,:]\n",
    "ogrenci_sayisi = [float(each.replace(',','.'))for each in veri2016.ogrenci_sayisi]\n",
    "uluslararasi_renk= [ float(each) for each in veri2016.uluslararasi]\n",
    "\n",
    "data = [{'y': veri2016.ogretim,\n",
    "         'x': veri2016.dunya_siralama,\n",
    "         'mode': 'markers',\n",
    "         'marker': {'color': uluslararasi_renk,\n",
    "                    'size': ogrenci_sayisi,\n",
    "                    'showscale': True},\n",
    "         'text': veri2016.uni_isim}]\n",
    "plot(data, filename='5_kabarcik_ogrenci_sayisi.html')"
   ]
  },
  {
   "cell_type": "code",
   "execution_count": 39,
   "id": "4d979b83-4d94-47fa-80ad-73d8645b79f9",
   "metadata": {},
   "outputs": [
    {
     "data": {
      "text/plain": [
       "'6_histogram_ogrenci-calisma_orani.html'"
      ]
     },
     "execution_count": 39,
     "metadata": {},
     "output_type": "execute_result"
    }
   ],
   "source": [
    "# 2011 ve 2012 yıllarında öğrenci ve çalışan oranlarını alalım\n",
    "veri2011 = veri.ogrenci_calisan_orani[veri.yil == 2011]\n",
    "veri2012 = veri.ogrenci_calisan_orani[veri.yil == 2012]\n",
    "\n",
    "cizgi1 = go.Histogram(x= veri2011,\n",
    "                      opacity = 0.75,\n",
    "                      name = \"2011\",\n",
    "                      marker = dict( color= 'rgba(171, 50, 144, 0.6)'))\n",
    "#ikinci grafik\n",
    "cizgi2 = go.Histogram(x= veri2012,\n",
    "                      opacity = 0.75,\n",
    "                      name= \"2012\",\n",
    "                      marker = dict(color='rgba(23,150,196,0.6)'))\n",
    "veri_ = [cizgi1, cizgi2]\n",
    "yerlesim = go.Layout(barmode = \"overlay\",\n",
    "                     title= \"2011 ve 2012 yıllarında öğrenci/çalışan oranı\",\n",
    "                     xaxis = dict(title = \"öğrenci - çalışan oranı\"),\n",
    "                     yaxis = dict(title=\"Frekans\"))\n",
    "fig = go.Figure(data=veri_, layout = yerlesim)\n",
    "plot(fig, filename='6_histogram_ogrenci-calisma_orani.html')"
   ]
  },
  {
   "cell_type": "code",
   "execution_count": 40,
   "id": "fdddea5d-7549-4d87-ba41-c09226ba8a1c",
   "metadata": {},
   "outputs": [
    {
     "data": {
      "text/plain": [
       "'7_kutu_toplam_ve_arastirma_puanı.html'"
      ]
     },
     "execution_count": 40,
     "metadata": {},
     "output_type": "execute_result"
    }
   ],
   "source": [
    "#pyplot kutu grafiği\n",
    "# 2015 yılının verisini alalım\n",
    "veri2015 = veri[veri.yil == 2015]\n",
    "\n",
    "#ilk grafik\n",
    "cizgi1 = go.Box(y = veri2015.toplam_puan,\n",
    "                name = '2015 yılında Toplam Puan',\n",
    "                marker= dict(color= 'rgb(255, 86, 4)'))\n",
    "#ikinci grafik\n",
    "cizgi2 = go.Box( y = veri2015.arastirma,\n",
    "                name='2015 yılında Toplam Araştırma Puan',\n",
    "                marker= dict(color ='rgb(14,149,233)'))\n",
    "veri_ = [cizgi1, cizgi2]\n",
    "plot(veri_, filename='7_kutu_toplam_ve_arastirma_puanı.html')"
   ]
  },
  {
   "cell_type": "code",
   "execution_count": 41,
   "id": "6ea9c1a4-fdc5-4444-a63f-80bd2b0c8fa9",
   "metadata": {},
   "outputs": [
    {
     "data": {
      "text/plain": [
       "'8_sacilim_matrisi_arastirma_uluslararasi_ve_toplam_puan.html'"
      ]
     },
     "execution_count": 41,
     "metadata": {},
     "output_type": "execute_result"
    }
   ],
   "source": [
    "#pyplot saçılım matrisi grafiği\n",
    "#2015 yılının verisini alalım\n",
    "veri_gecici = veri[veri.yil ==2015]\n",
    "veri2015 = veri_gecici.loc[:,[\"arastirma\",\"uluslararasi\", \"toplam_puan\"]]\n",
    "veri2015[\"index\"] = np.arange(1, len(veri2015)+1)\n",
    "\n",
    "# scatter matrix i oluşturalım\n",
    "fig = ff.create_scatterplotmatrix(veri2015, diag=\"box\", index=\"index\",\n",
    "                                  colormap='Jet', colormap_type ='cat', height = 700, width=700)\n",
    "\"\"\"\n",
    "örnek renk haritaları\n",
    "'Greys', 'YlGnBu', 'Greens', 'YlOrRd', 'Bluered',\n",
    "'RdBu', 'Reds', 'Blues', 'Picnic', 'Rainbow', 'Portland',\n",
    "'Jet', 'Hot', 'Blackbody', 'Earth',\n",
    "'Electric', 'Viridis', 'Cividis'\n",
    "\"\"\"\n",
    "plot(fig, filename = '8_sacilim_matrisi_arastirma_uluslararasi_ve_toplam_puan.html')"
   ]
  },
  {
   "cell_type": "code",
   "execution_count": 42,
   "id": "58bea8f9-a362-4fdd-995a-b57afc6edb38",
   "metadata": {},
   "outputs": [
    {
     "data": {
      "text/plain": [
       "'9_altplan_arastirma_alinti_gelir_ve_toplam_puan.html'"
      ]
     },
     "execution_count": 42,
     "metadata": {},
     "output_type": "execute_result"
    }
   ],
   "source": [
    "# pyplot Alt Plan Graği\n",
    "# veri 2015 yılının verisini alalım\n",
    "veri2015= veri[veri.yil == 2015]\n",
    "\n",
    "cizgi1= go.Scatter(x= veri2015.dunya_siralama,\n",
    "                   y= veri2015.arastirma,\n",
    "                   name = \"arastirma- dünya sıralaması\")\n",
    "cizgi2= go.Scatter(x= veri2015.dunya_siralama,\n",
    "                   y= veri2015.alinti,\n",
    "                   xaxis= 'x2',\n",
    "                   yaxis='y2',\n",
    "                   name= \"alinti -dünya sıralaması\")\n",
    "cizgi3= go.Scatter(x= veri2015.dunya_siralama,\n",
    "                   y=veri2015.gelir,\n",
    "                   xaxis=\"x3\",\n",
    "                   yaxis=\"y3\",\n",
    "                   name=\"gelir-dünya sıraması\")\n",
    "cizgi4= go.Scatter(x=veri2015.dunya_siralama,\n",
    "                 y=veri2015.toplam_puan,\n",
    "                 xaxis=\"x4\",\n",
    "                 yaxis=\"y4\",\n",
    "                 name= \"toplam puan-dünya sıralaması\")\n",
    "veri_ =[cizgi1, cizgi2, cizgi3, cizgi4]\n",
    "yerlesim = go.Layout(xaxis = dict(domain=[0, 0.45]),\n",
    "                     yaxis= dict(domain=[0, 0.45]),\n",
    "                     xaxis2= dict(domain=[0.55, 1]),\n",
    "                     xaxis3= dict(domain=[0, 0.45], anchor='y3'),\n",
    "                     xaxis4=dict(domain=[0.55, 1],anchor='y4'),\n",
    "                     yaxis2=dict(domain=[0, 0.45 ],anchor='x2'),\n",
    "                     yaxis3=dict(domain=[0.55, 1],anchor='x3'),\n",
    "                     yaxis4=dict(domain=[0.55, 1], anchor='x4'),\n",
    "                     title= \"üniversite sıralamalarına göre araştırma , alıntı, gelir ve toplam puan değerleri\")\n",
    "fig = go.Figure(data=veri_, layout= yerlesim)\n",
    "plot(fig, filename='9_altplan_arastirma_alinti_gelir_ve_toplam_puan.html')\n"
   ]
  },
  {
   "cell_type": "code",
   "execution_count": 44,
   "id": "30933af5-16bf-481f-a687-2a9ac5853af7",
   "metadata": {},
   "outputs": [
    {
     "data": {
      "text/plain": [
       "'10_3b_dünya_siralamasi_arastirma_alinti.html'"
      ]
     },
     "execution_count": 44,
     "metadata": {},
     "output_type": "execute_result"
    }
   ],
   "source": [
    "# 3 boyutlu saçılım grafiği\n",
    "#2015 yılının verisini alalım\n",
    "veri2015 = veri[veri.yil==2015]\n",
    "cizgi1 = go.Scatter3d(x= veri2015.dunya_siralama,\n",
    "                      y= veri2015.arastirma,\n",
    "                      z=veri2015.alinti,\n",
    "                      mode = 'markers',\n",
    "                      marker = dict(size= 10, color=\"seagreen\"), opacity =0.5)\n",
    "veri_ = [cizgi1]\n",
    "yerlesim = go.Layout(margin=dict(l=0, r=0, b=0, t=0))\n",
    "fig = go.Figure(data=veri_, layout=yerlesim)\n",
    "plot(fig, filename=\"10_3b_dünya_siralamasi_arastirma_alinti.html\")"
   ]
  },
  {
   "cell_type": "code",
   "execution_count": 45,
   "id": "4f368eea-f8f9-481e-8abf-74e0f772c554",
   "metadata": {},
   "outputs": [
    {
     "data": {
      "text/plain": [
       "United States of America     146\n",
       "United Kingdom                77\n",
       "Japan                         41\n",
       "Germany                       37\n",
       "China                         37\n",
       "                            ... \n",
       "Unted Kingdom                  1\n",
       "Iceland                        1\n",
       "Unisted States of America      1\n",
       "Luxembourg                     1\n",
       "Lithuania                      1\n",
       "Name: ulke, Length: 72, dtype: int64"
      ]
     },
     "execution_count": 45,
     "metadata": {},
     "output_type": "execute_result"
    }
   ],
   "source": [
    "#pyplot dünya haritası grafiği\n",
    "#2016 yılının verisini alalım\n",
    "\n",
    "veri2016= veri[veri.yil== 2016]\n",
    "veri2016.ulke.value_counts()"
   ]
  },
  {
   "cell_type": "code",
   "execution_count": 46,
   "id": "bdf4ef50-1618-456c-a3ff-2bf64d427f57",
   "metadata": {},
   "outputs": [
    {
     "data": {
      "text/html": [
       "<div>\n",
       "<style scoped>\n",
       "    .dataframe tbody tr th:only-of-type {\n",
       "        vertical-align: middle;\n",
       "    }\n",
       "\n",
       "    .dataframe tbody tr th {\n",
       "        vertical-align: top;\n",
       "    }\n",
       "\n",
       "    .dataframe thead th {\n",
       "        text-align: right;\n",
       "    }\n",
       "</style>\n",
       "<table border=\"1\" class=\"dataframe\">\n",
       "  <thead>\n",
       "    <tr style=\"text-align: right;\">\n",
       "      <th></th>\n",
       "      <th>ogretim</th>\n",
       "      <th>arastirma</th>\n",
       "      <th>alinti</th>\n",
       "      <th>ogrenci_calisan_orani</th>\n",
       "      <th>yil</th>\n",
       "    </tr>\n",
       "    <tr>\n",
       "      <th>ulke</th>\n",
       "      <th></th>\n",
       "      <th></th>\n",
       "      <th></th>\n",
       "      <th></th>\n",
       "      <th></th>\n",
       "    </tr>\n",
       "  </thead>\n",
       "  <tbody>\n",
       "    <tr>\n",
       "      <th>Argentina</th>\n",
       "      <td>0.109589</td>\n",
       "      <td>0.061644</td>\n",
       "      <td>0.085616</td>\n",
       "      <td>0.260959</td>\n",
       "      <td>13.808219</td>\n",
       "    </tr>\n",
       "    <tr>\n",
       "      <th>Australia</th>\n",
       "      <td>6.106849</td>\n",
       "      <td>6.971233</td>\n",
       "      <td>12.867808</td>\n",
       "      <td>5.715753</td>\n",
       "      <td>428.054795</td>\n",
       "    </tr>\n",
       "    <tr>\n",
       "      <th>Austria</th>\n",
       "      <td>1.336986</td>\n",
       "      <td>1.095205</td>\n",
       "      <td>2.961644</td>\n",
       "      <td>1.100685</td>\n",
       "      <td>96.657534</td>\n",
       "    </tr>\n",
       "    <tr>\n",
       "      <th>Bangladesh</th>\n",
       "      <td>0.148630</td>\n",
       "      <td>0.049315</td>\n",
       "      <td>0.065753</td>\n",
       "      <td>0.047260</td>\n",
       "      <td>13.808219</td>\n",
       "    </tr>\n",
       "    <tr>\n",
       "      <th>Belarus</th>\n",
       "      <td>0.138356</td>\n",
       "      <td>0.059589</td>\n",
       "      <td>0.041096</td>\n",
       "      <td>0.072603</td>\n",
       "      <td>13.808219</td>\n",
       "    </tr>\n",
       "    <tr>\n",
       "      <th>...</th>\n",
       "      <td>...</td>\n",
       "      <td>...</td>\n",
       "      <td>...</td>\n",
       "      <td>...</td>\n",
       "      <td>...</td>\n",
       "    </tr>\n",
       "    <tr>\n",
       "      <th>Unisted States of America</th>\n",
       "      <td>0.219178</td>\n",
       "      <td>0.243151</td>\n",
       "      <td>0.463699</td>\n",
       "      <td>0.000000</td>\n",
       "      <td>13.808219</td>\n",
       "    </tr>\n",
       "    <tr>\n",
       "      <th>United Arab Emirates</th>\n",
       "      <td>0.213699</td>\n",
       "      <td>0.173973</td>\n",
       "      <td>0.239726</td>\n",
       "      <td>0.182192</td>\n",
       "      <td>27.616438</td>\n",
       "    </tr>\n",
       "    <tr>\n",
       "      <th>United Kingdom</th>\n",
       "      <td>17.059589</td>\n",
       "      <td>16.370548</td>\n",
       "      <td>32.118493</td>\n",
       "      <td>8.846575</td>\n",
       "      <td>1063.232877</td>\n",
       "    </tr>\n",
       "    <tr>\n",
       "      <th>United States of America</th>\n",
       "      <td>40.959589</td>\n",
       "      <td>37.350685</td>\n",
       "      <td>70.697260</td>\n",
       "      <td>14.480822</td>\n",
       "      <td>2016.000000</td>\n",
       "    </tr>\n",
       "    <tr>\n",
       "      <th>Unted Kingdom</th>\n",
       "      <td>0.126027</td>\n",
       "      <td>0.139726</td>\n",
       "      <td>0.355479</td>\n",
       "      <td>0.000000</td>\n",
       "      <td>13.808219</td>\n",
       "    </tr>\n",
       "  </tbody>\n",
       "</table>\n",
       "<p>72 rows × 5 columns</p>\n",
       "</div>"
      ],
      "text/plain": [
       "                             ogretim  arastirma     alinti  \\\n",
       "ulke                                                         \n",
       "Argentina                   0.109589   0.061644   0.085616   \n",
       "Australia                   6.106849   6.971233  12.867808   \n",
       "Austria                     1.336986   1.095205   2.961644   \n",
       "Bangladesh                  0.148630   0.049315   0.065753   \n",
       "Belarus                     0.138356   0.059589   0.041096   \n",
       "...                              ...        ...        ...   \n",
       "Unisted States of America   0.219178   0.243151   0.463699   \n",
       "United Arab Emirates        0.213699   0.173973   0.239726   \n",
       "United Kingdom             17.059589  16.370548  32.118493   \n",
       "United States of America   40.959589  37.350685  70.697260   \n",
       "Unted Kingdom               0.126027   0.139726   0.355479   \n",
       "\n",
       "                           ogrenci_calisan_orani          yil  \n",
       "ulke                                                           \n",
       "Argentina                               0.260959    13.808219  \n",
       "Australia                               5.715753   428.054795  \n",
       "Austria                                 1.100685    96.657534  \n",
       "Bangladesh                              0.047260    13.808219  \n",
       "Belarus                                 0.072603    13.808219  \n",
       "...                                          ...          ...  \n",
       "Unisted States of America               0.000000    13.808219  \n",
       "United Arab Emirates                    0.182192    27.616438  \n",
       "United Kingdom                          8.846575  1063.232877  \n",
       "United States of America               14.480822  2016.000000  \n",
       "Unted Kingdom                           0.000000    13.808219  \n",
       "\n",
       "[72 rows x 5 columns]"
      ]
     },
     "execution_count": 46,
     "metadata": {},
     "output_type": "execute_result"
    }
   ],
   "source": [
    "# listede ABD den 146 adet okul olduğu için toplamı 146 ya bölüyoruz. görselleştirme daga güzel görünsün diye\n",
    "ulkeye_gore_toplam_veriler = veri2016.groupby(\"ulke\").sum()/146\n",
    "ulkeye_gore_toplam_veriler\n"
   ]
  },
  {
   "cell_type": "code",
   "execution_count": 52,
   "id": "d3ec0e0f-f9a2-4043-af64-1d3e16cebc70",
   "metadata": {},
   "outputs": [
    {
     "data": {
      "text/plain": [
       "'11_dunya_haritasi_arastirma_puani.html'"
      ]
     },
     "execution_count": 52,
     "metadata": {},
     "output_type": "execute_result"
    }
   ],
   "source": [
    "# ilk grafik\n",
    "cizgi1 = go.Choropleth(locations= ulkeye_gore_toplam_veriler.index,\n",
    "                       locationmode = 'country names',\n",
    "                       z= ulkeye_gore_toplam_veriler[\"arastirma\"],\n",
    "                       text= ulkeye_gore_toplam_veriler.index,\n",
    "                       autocolorscale = False,\n",
    "                       reversescale = True,\n",
    "                       colorscale = \"iceFire\",\n",
    "                       marker = dict(line=dict(color= 'rgb(255,255,255)', width=1)),\n",
    "                                     colorbar= dict(title = 'arastırma puanı', tickprefix=''))\n",
    "                      \n",
    "veri_ = [cizgi1]\n",
    "yerlesim= go.Layout(title = \"ülkelerin toplam araştırma puanları\",\n",
    "                   geo= dict(showframe= True,\n",
    "                             showlakes= False,\n",
    "                             showcoastlines= True,\n",
    "                             projection = dict(type = 'natural earth')))\n",
    "fig = dict(data= veri_, layout = yerlesim)\n",
    "plot(fig, filename=\"11_dunya_haritasi_arastirma_puani.html\")\n",
    "                       "
   ]
  },
  {
   "cell_type": "code",
   "execution_count": null,
   "id": "acabb4f4-7469-4bf2-bf62-7384fc310ea6",
   "metadata": {},
   "outputs": [],
   "source": []
  }
 ],
 "metadata": {
  "kernelspec": {
   "display_name": "default:Python",
   "language": "python",
   "name": "conda-env-default-py"
  },
  "language_info": {
   "codemirror_mode": {
    "name": "ipython",
    "version": 3
   },
   "file_extension": ".py",
   "mimetype": "text/x-python",
   "name": "python",
   "nbconvert_exporter": "python",
   "pygments_lexer": "ipython3",
   "version": "3.9.10"
  }
 },
 "nbformat": 4,
 "nbformat_minor": 5
}
